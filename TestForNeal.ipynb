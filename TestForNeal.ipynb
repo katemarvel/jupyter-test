{
 "cells": [
  {
   "cell_type": "code",
   "execution_count": null,
   "metadata": {},
   "outputs": [],
   "source": [
    "import cdms2 as cdms  \n",
    "import matplotlib.pyplot as plt  \n",
    "f=cdms.open(\"cmip5.GISS-E2-R.historical.r1i1p1.mo.atm.Amon.tas.ver-v20120205.latestX.YEAR.nc\")\n",
    "tas=f(\"tas\")\n",
    "time=[x.year for x in tas.getTime().asComponentTime()]   \n",
    "plt.plot(time,tas.asma()) \n",
    "plt.xlabel(\"Time\")\n",
    "plt.ylabel(\"Annual temperature anomaly\")"
   ]
  }
 ],
 "metadata": {
  "kernelspec": {
   "display_name": "Python 3",
   "language": "python",
   "name": "python3"
  },
  "language_info": {
   "codemirror_mode": {
    "name": "ipython",
    "version": 3
   },
   "file_extension": ".py",
   "mimetype": "text/x-python",
   "name": "python",
   "nbconvert_exporter": "python",
   "pygments_lexer": "ipython3",
   "version": "3.7.3"
  }
 },
 "nbformat": 4,
 "nbformat_minor": 2
}
